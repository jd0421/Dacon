{
 "cells": [
  {
   "cell_type": "code",
   "execution_count": null,
   "metadata": {},
   "outputs": [],
   "source": [
    "class CustomList:\n",
    "    def __init__(self, data):\n",
    "        self.data = data\n",
    "    \n",
    "    def __str__(self):\n",
    "        return str(self.data)\n",
    "    \n",
    "    def __len__(self):\n",
    "        return len(self.data)\n",
    "\n",
    "    def __getitem__(self, index):\n",
    "        return self.data[index]\n",
    "    \n",
    "    def __setitem__(self, index, value):\n",
    "        self.data[index] = value\n",
    "    \n",
    "    def __delitem__(self, index):\n",
    "        del self.data[index] \n",
    "\n",
    "    def __contains__(self, item):\n",
    "        return item in self.data\n",
    "\n",
    "    # 여기에 코드를 작성해 주세요 "
   ]
  },
  {
   "cell_type": "code",
   "execution_count": null,
   "metadata": {},
   "outputs": [],
   "source": []
  },
  {
   "cell_type": "code",
   "execution_count": null,
   "metadata": {},
   "outputs": [],
   "source": [
    "import re\n",
    "\n",
    "# 예제 문자열\n",
    "text = 'The cat sat on the mat with a bat.'\n",
    "\n",
    "pattern = r'cat'# 패턴을 만들어 봅시다.\n",
    "result = re.findall(pattern, text)\n",
    "print(bool(result))  # ['cat']"
   ]
  },
  {
   "cell_type": "code",
   "execution_count": null,
   "metadata": {},
   "outputs": [],
   "source": [
    "# 입력 텍스트\n",
    "text = \"\"\"\n",
    "This is a Test. The result should include This sentence. Another test? The code should ignore this. Today is a good day.\n",
    "\"\"\"\n",
    "\n",
    "# print(text)\n",
    "pattern = r\"^T.*?\\.$\"\n",
    "# pattern = r\"T.*?\\.$\" # 여기에 코드를 작성하세요.\n",
    "sentences = re.findall(pattern, text)\n",
    "print(sentences)  # ['This is a Test.', 'The result should include This sentence.', 'Today is a good day.']"
   ]
  },
  {
   "cell_type": "code",
   "execution_count": null,
   "metadata": {},
   "outputs": [],
   "source": [
    "# 입력 텍스트\n",
    "text = \"\"\"\n",
    "The project started on 2023-01-15 and was completed by 2024-08-23.\n",
    "A major milestone was reached on 2023-05-05.\n",
    "\"\"\"\n",
    "\n",
    "# 날짜 패턴 정의\n",
    "pattern = r\"\\d{4}-\\d{2}-\\d{2}\" # 여기에 코드를 작성하세요.\n",
    "dates = re.findall(pattern, text)\n",
    "print(dates)  # ['2023-01-15', '2024-08-23', '2023-05-05']"
   ]
  },
  {
   "cell_type": "code",
   "execution_count": null,
   "metadata": {},
   "outputs": [],
   "source": []
  },
  {
   "cell_type": "code",
   "execution_count": null,
   "metadata": {},
   "outputs": [],
   "source": []
  },
  {
   "cell_type": "code",
   "execution_count": null,
   "metadata": {},
   "outputs": [],
   "source": []
  }
 ],
 "metadata": {
  "language_info": {
   "name": "python"
  }
 },
 "nbformat": 4,
 "nbformat_minor": 2
}
