{
 "cells": [
  {
   "cell_type": "markdown",
   "metadata": {},
   "source": [
    "# 07. 문자열 다루기"
   ]
  },
  {
   "cell_type": "code",
   "execution_count": null,
   "metadata": {},
   "outputs": [],
   "source": []
  },
  {
   "cell_type": "code",
   "execution_count": null,
   "metadata": {},
   "outputs": [],
   "source": []
  },
  {
   "cell_type": "code",
   "execution_count": null,
   "metadata": {},
   "outputs": [],
   "source": []
  },
  {
   "cell_type": "markdown",
   "metadata": {},
   "source": [
    "# 08. 문자열 다루기 2"
   ]
  },
  {
   "cell_type": "code",
   "execution_count": 31,
   "metadata": {},
   "outputs": [
    {
     "name": "stdout",
     "output_type": "stream",
     "text": [
      "Hello World     /     Hello World    \n",
      "Hello World /     Hello World    \n",
      "    Hello World /     Hello World    \n"
     ]
    }
   ],
   "source": [
    "# .strip, .lstrip, .rstrip\n",
    "\n",
    "s = \"    Hello World    \"\n",
    "print(s.lstrip(), '/', s)\n",
    "print(s.strip(), '/', s)\n",
    "print(s.rstrip(), '/', s)\n"
   ]
  },
  {
   "cell_type": "code",
   "execution_count": 34,
   "metadata": {},
   "outputs": [
    {
     "name": "stdout",
     "output_type": "stream",
     "text": [
      "HELLO, WORLD!\n"
     ]
    }
   ],
   "source": [
    "# upper lower\n",
    "string = \"Hello, world!\"\n",
    "\n",
    "upper_string = string.upper() # 여기에 코드를 작성해 주세요.\n",
    "print(upper_string)"
   ]
  },
  {
   "cell_type": "code",
   "execution_count": 33,
   "metadata": {},
   "outputs": [
    {
     "name": "stdout",
     "output_type": "stream",
     "text": [
      "Hello, python!\n"
     ]
    }
   ],
   "source": [
    "# replace()\n",
    "string = \"Hello, world!\"\n",
    "\n",
    "replaced_string = string.replace('world', 'python') # 여기에 코드를 작성해 주세요.\n",
    "print(replaced_string)"
   ]
  },
  {
   "cell_type": "code",
   "execution_count": 32,
   "metadata": {},
   "outputs": [
    {
     "name": "stdout",
     "output_type": "stream",
     "text": [
      "6\n"
     ]
    }
   ],
   "source": [
    "string = \"Hello World\"\n",
    "\n",
    "idx = string.find('World') # 여기에 코드를 작성해 주세요.\n",
    "print(idx)"
   ]
  },
  {
   "cell_type": "code",
   "execution_count": 38,
   "metadata": {},
   "outputs": [
    {
     "name": "stdout",
     "output_type": "stream",
     "text": [
      "True\n",
      "False\n",
      "True\n"
     ]
    }
   ],
   "source": [
    "#.isdigit()\n",
    "#.isalpha()\n",
    "#.isalnum()\n",
    "\n",
    "string = \"1234567890\"\n",
    "print(string.isdigit())\n",
    "print(string.isalpha())\n",
    "print(string.isalnum())"
   ]
  },
  {
   "cell_type": "markdown",
   "metadata": {},
   "source": [
    "# 09. 불리언"
   ]
  },
  {
   "cell_type": "markdown",
   "metadata": {},
   "source": [
    "# 10. 11. 리스트"
   ]
  },
  {
   "cell_type": "code",
   "execution_count": 23,
   "metadata": {},
   "outputs": [
    {
     "name": "stdout",
     "output_type": "stream",
     "text": [
      "2\n"
     ]
    }
   ],
   "source": [
    "# count\n",
    "\n",
    "fruits = ['apple', 'banana', 'cherry', 'apple', 'banana', 'banana', 'fig', 'grape']\n",
    "apple_count = fruits.count(\"apple\") # 여기에 코드를 입력해 주세요\n",
    "print(apple_count)"
   ]
  },
  {
   "cell_type": "code",
   "execution_count": 24,
   "metadata": {},
   "outputs": [
    {
     "name": "stdout",
     "output_type": "stream",
     "text": [
      "0 3\n"
     ]
    }
   ],
   "source": [
    "# index\n",
    "\n",
    "fruits = ['apple', 'banana', 'cherry', 'apple', 'banana', 'banana', 'fig', 'grape']\n",
    "\n",
    "index1 = fruits.index('apple') # 여기에 코드를 입력해 주세요\n",
    "index2 = fruits.index('apple', index1+1) # 두번 째 애플의 위치\n",
    "print(index1, index2)"
   ]
  },
  {
   "cell_type": "code",
   "execution_count": 25,
   "metadata": {},
   "outputs": [
    {
     "name": "stdout",
     "output_type": "stream",
     "text": [
      "[1, 2, 3, 4, 99]\n",
      "[1, 2, 3, 4, 99, 5, 6, 7, 8, 9]\n",
      "[1, 2, 3, 4, 99, 5, 777, 6, 7, 8, 9]\n"
     ]
    }
   ],
   "source": [
    "# 리스트 삽입\n",
    "\n",
    "ls = [1, 2, 3, 4]\n",
    "\n",
    "ls.append(99) # 여기에 코드를 입력해 주세요\n",
    "print(ls)\n",
    "\n",
    "more_ls = [5, 6, 7, 8, 9]\n",
    "ls.extend(more_ls)  # 전체 값 추가\n",
    "print(ls)\n",
    "\n",
    "ls.insert(6, 777) # 인덱스 6번에 777을 추가\n",
    "print(ls)"
   ]
  },
  {
   "cell_type": "code",
   "execution_count": null,
   "metadata": {},
   "outputs": [
    {
     "name": "stdout",
     "output_type": "stream",
     "text": [
      "['apple', 'banana', 'date', 'banana', 'fig']\n",
      "['apple', 'banana', 'date', 'banana'] , fig\n",
      "[1, 2, 3, 4]\n"
     ]
    }
   ],
   "source": [
    "# 리스트 삭제 \n",
    "\n",
    "ls2 = ['apple', 'banana', 'cherry', 'date', 'banana', 'fig']\n",
    "\n",
    "ls2.remove('cherry') # 여기에 코드를 입력해 주세요\n",
    "print(ls2)\n",
    "\n",
    "last_value = ls2.pop() # 여기에 코드를 입력해 주세요\n",
    "print(ls2, ',', last_value)\n",
    "\n",
    "ls3 = [1, 2, 3, 4]\n",
    "ls3.clear # 여기에 코드를 입력해 주세요\n",
    "print(ls3)"
   ]
  },
  {
   "cell_type": "code",
   "execution_count": 27,
   "metadata": {},
   "outputs": [
    {
     "name": "stdout",
     "output_type": "stream",
     "text": [
      "[9, 6, 5, 5, 2, 1]\n",
      "[1, 2, 5, 5, 6, 9]\n"
     ]
    }
   ],
   "source": [
    "# sort. reverse\n",
    "\n",
    "numbers = [5, 2, 9, 1, 5, 6]\n",
    "\n",
    "numbers.sort(reverse = True) # 여기에 코드를 입력해 주세요\n",
    "print(numbers)\n",
    "\n",
    "numbers.reverse() # 여기에 코드를 입력해 주세요\n",
    "print(numbers)"
   ]
  },
  {
   "cell_type": "code",
   "execution_count": 28,
   "metadata": {},
   "outputs": [
    {
     "name": "stdout",
     "output_type": "stream",
     "text": [
      "최대값 9\n",
      "최소값 1\n",
      "합계 28\n",
      "개수 6\n"
     ]
    }
   ],
   "source": [
    "# 리스트 값 분석\n",
    "\n",
    "numbers = [5, 2, 9, 1, 5, 6]\n",
    "\n",
    "maximum = max(numbers) # 여기에 코드를 입력해 주세요\n",
    "minimum = min(numbers) # 여기에 코드를 입력해 주세요\n",
    "total = sum(numbers) # 여기에 코드를 입력해 주세요\n",
    "length = len(numbers) # 여기에 코드를 입력해 주세요\n",
    "\n",
    "print('최대값', maximum)\n",
    "print('최소값', minimum)\n",
    "print('합계', total)\n",
    "print('개수', length)"
   ]
  },
  {
   "cell_type": "markdown",
   "metadata": {},
   "source": [
    "# 12. 딕셔너리"
   ]
  },
  {
   "cell_type": "code",
   "execution_count": 16,
   "metadata": {},
   "outputs": [
    {
     "name": "stdout",
     "output_type": "stream",
     "text": [
      "{'name': '김철수', 'math': 90, 'english': 85, 'temp': 999}\n"
     ]
    }
   ],
   "source": [
    "score = {\n",
    "    'name' : '김철수',\n",
    "    'math' : 90,\n",
    "    'english' : 85,\n",
    "    'temp' : 999\n",
    "} # 여기에 코드를 작성하세요\n",
    "print(score)"
   ]
  },
  {
   "cell_type": "code",
   "execution_count": 18,
   "metadata": {},
   "outputs": [
    {
     "name": "stdout",
     "output_type": "stream",
     "text": [
      "{'name': '김철수', 'math': 90, 'english': 85, 'temp': 999, 'korean': 100}\n"
     ]
    }
   ],
   "source": [
    "# 새로운 값 추가 \n",
    "score[\"korean\"] = 100 # 여기에 코드를 작성하세요\n",
    "\n",
    "print(score)"
   ]
  },
  {
   "cell_type": "code",
   "execution_count": 19,
   "metadata": {},
   "outputs": [
    {
     "name": "stdout",
     "output_type": "stream",
     "text": [
      "{'name': '김철수', 'math': 90, 'english': 85, 'korean': 100}\n"
     ]
    }
   ],
   "source": [
    "# 키 값 삭제 \n",
    "del score[\"temp\"] # 여기에 코드를 작성하세요\n",
    "\n",
    "print(score)"
   ]
  },
  {
   "cell_type": "code",
   "execution_count": 17,
   "metadata": {},
   "outputs": [
    {
     "name": "stdout",
     "output_type": "stream",
     "text": [
      "dict_keys(['name', 'math', 'english', 'temp'])\n",
      "dict_values(['김철수', 90, 85, 999])\n",
      "dict_items([('name', '김철수'), ('math', 90), ('english', 85), ('temp', 999)])\n",
      "dict_keys(['name', 'math', 'english', 'temp'])\n",
      "dict_values(['김철수', 90, 85, 999])\n",
      "dict_items([('name', '김철수'), ('math', 90), ('english', 85), ('temp', 999)])\n"
     ]
    }
   ],
   "source": [
    "# 값 반환 메소드\n",
    "# 메서드 그대로 써도 무방\n",
    " \n",
    "keys = score.keys() # 여기에 코드를 작성하세요\n",
    "values = score.values() # 여기에 코드를 작성하세요\n",
    "items = score.items() # 여기에 코드를 작성하세요\n",
    "\n",
    "print(keys)\n",
    "print(values)\n",
    "print(items)\n",
    "\n",
    "print(score.keys())\n",
    "print(score.values())\n",
    "print(score.items())"
   ]
  },
  {
   "cell_type": "markdown",
   "metadata": {},
   "source": [
    "# 13. 튜플"
   ]
  },
  {
   "cell_type": "code",
   "execution_count": 14,
   "metadata": {},
   "outputs": [
    {
     "name": "stdout",
     "output_type": "stream",
     "text": [
      "Alice\n",
      "30\n",
      "Engineer\n"
     ]
    }
   ],
   "source": [
    "# 튜플 언패킹\n",
    "person = (\"Alice\", 30, \"Engineer\")\n",
    "name, age, job = person # 여기에 코드를 입력하세요\n",
    "\n",
    "print(name)\n",
    "print(age)\n",
    "print(job)"
   ]
  },
  {
   "cell_type": "markdown",
   "metadata": {},
   "source": [
    "# 14. 집합"
   ]
  },
  {
   "cell_type": "code",
   "execution_count": 11,
   "metadata": {},
   "outputs": [
    {
     "name": "stdout",
     "output_type": "stream",
     "text": [
      "{1, 2, 3, 4}\n"
     ]
    }
   ],
   "source": [
    "set1 = {1, 2, 3, 4} # 여기에 코드를 작성하세요\n",
    "\n",
    "print(set1)"
   ]
  },
  {
   "cell_type": "code",
   "execution_count": 12,
   "metadata": {},
   "outputs": [
    {
     "name": "stdout",
     "output_type": "stream",
     "text": [
      "{2, 3, 4, 5}\n"
     ]
    }
   ],
   "source": [
    "set1.add(5) # 여기에 코드를 작성하세요\n",
    "set1.remove(1) # 여기에 코드를 작성하세요\n",
    "\n",
    "print(set1)"
   ]
  },
  {
   "cell_type": "code",
   "execution_count": 13,
   "metadata": {},
   "outputs": [
    {
     "name": "stdout",
     "output_type": "stream",
     "text": [
      "합집합: {1, 2, 3, 4, 5, 6, 7, 8}\n",
      "교집합: {4, 5}\n",
      "차집합: {1, 2, 3}\n",
      "대칭차집합: {1, 2, 3, 6, 7, 8}\n"
     ]
    }
   ],
   "source": [
    "# 대칭차집합?\n",
    "\n",
    "set1 = {1, 2, 3, 4, 5}\n",
    "set2 = {4, 5, 6, 7, 8}\n",
    "\n",
    "# 합집합\n",
    "union_set = set1 | set2 # 여기에 코드를 작성하세요\n",
    "\n",
    "# 교집합\n",
    "intersection_set = set1 & set2 # 여기에 코드를 작성하세요\n",
    "\n",
    "# 차집합 (set1 - set2)\n",
    "difference_set = set1 - set2 # 여기에 코드를 작성하세요\n",
    "\n",
    "# 대칭차집합\n",
    "symmetric_difference_set = set1 ^ set2 # 여기에 코드를 작성하세요\n",
    "\n",
    "\n",
    "print(f\"합집합: {union_set}\")\n",
    "print(f\"교집합: {intersection_set}\")  # 출력: {4, 5}\n",
    "print(f\"차집합: {difference_set}\")  # 출력: {1, 2, 3}\n",
    "print(f\"대칭차집합: {symmetric_difference_set}\")  # 출력: {1, 2, 3, 6, 7, 8}"
   ]
  },
  {
   "cell_type": "markdown",
   "metadata": {},
   "source": [
    "# 15. 자료형 변환"
   ]
  },
  {
   "cell_type": "code",
   "execution_count": 9,
   "metadata": {},
   "outputs": [
    {
     "name": "stdout",
     "output_type": "stream",
     "text": [
      "180\n",
      "3.14\n",
      "100\n"
     ]
    }
   ],
   "source": [
    "# data를 정수형으로 변경해 봅시다.\n",
    "data = 180.1\n",
    "int_num = int(data)\n",
    "print(int_num)\n",
    "\n",
    "# data를 실수형으로 변경해 봅시다.\n",
    "data = \"3.14\"\n",
    "float_num = float(data)\n",
    "print(float_num)\n",
    "\n",
    "# data를 문자열로 변경해 봅시다.\n",
    "data = 100\n",
    "str_num = str(data)\n",
    "print(str_num)"
   ]
  },
  {
   "cell_type": "code",
   "execution_count": 10,
   "metadata": {},
   "outputs": [
    {
     "name": "stdout",
     "output_type": "stream",
     "text": [
      "['a', 'b', 'c', 'd', 'e']\n",
      "(1, 2, 3, 4)\n",
      "{1, 2, 3}\n"
     ]
    }
   ],
   "source": [
    "# data를 리스트로 변경해 봅시다.\n",
    "data = 'abcde'\n",
    "ls = list(data)\n",
    "print(ls)\n",
    "\n",
    "# data를 튜플로 변경해 봅시다.\n",
    "data = [1, 2, 3, 4]\n",
    "tup = tuple(data)\n",
    "print(tup)\n",
    "\n",
    "# data를 집합으로 변경해 봅시다.\n",
    "data = [1, 1, 1, 2, 2, 3]\n",
    "set_data = set(data)\n",
    "print(set_data)"
   ]
  },
  {
   "cell_type": "markdown",
   "metadata": {},
   "source": [
    "# 16. if"
   ]
  },
  {
   "cell_type": "code",
   "execution_count": 8,
   "metadata": {},
   "outputs": [
    {
     "name": "stdout",
     "output_type": "stream",
     "text": [
      "성적은 B+ 입니다.\n"
     ]
    }
   ],
   "source": [
    "score = 70\n",
    "if score >= 90:\n",
    "    print(\"성적은 A+ 입니다.\")\n",
    "elif score >= 80:\n",
    "    print(\"성적은 A 입니다.\")\n",
    "elif score >= 70:\n",
    "    print(\"성적은 B+ 입니다.\")\n",
    "else:\n",
    "    print(\"성적은 F 입니다.\")"
   ]
  },
  {
   "cell_type": "code",
   "execution_count": null,
   "metadata": {},
   "outputs": [],
   "source": []
  },
  {
   "cell_type": "code",
   "execution_count": null,
   "metadata": {},
   "outputs": [],
   "source": []
  },
  {
   "cell_type": "code",
   "execution_count": null,
   "metadata": {},
   "outputs": [],
   "source": []
  },
  {
   "cell_type": "markdown",
   "metadata": {},
   "source": [
    "# 17. for"
   ]
  },
  {
   "cell_type": "code",
   "execution_count": 1,
   "metadata": {},
   "outputs": [
    {
     "name": "stdout",
     "output_type": "stream",
     "text": [
      "0 apple\n",
      "1 banana\n",
      "2 cherry\n",
      "3 grape\n"
     ]
    }
   ],
   "source": [
    "# range(stop)\n",
    "# range(start, stop)\n",
    "# range(start, stop, step)\n",
    "\n",
    "# enumerate\n",
    "# 요소별 인덱스를 함께 출력\n",
    "\n",
    "ls = ['apple', 'banana', 'cherry', 'grape']\n",
    "\n",
    "for idx, value in enumerate(ls):\n",
    "    print(idx, value)"
   ]
  },
  {
   "cell_type": "code",
   "execution_count": 3,
   "metadata": {},
   "outputs": [
    {
     "name": "stdout",
     "output_type": "stream",
     "text": [
      "John: 85\n",
      "Emily: 92\n",
      "Anna: 78\n",
      "Mike: 89\n"
     ]
    }
   ],
   "source": [
    "scores = {\n",
    "    \"John\": 85,\n",
    "    \"Emily\": 92,\n",
    "    \"Anna\": 78,\n",
    "    \"Mike\": 89\n",
    "}\n",
    "\n",
    "for student, score in scores.items():\n",
    "    print(f\"{student}: {score}\")"
   ]
  },
  {
   "cell_type": "code",
   "execution_count": 5,
   "metadata": {},
   "outputs": [
    {
     "name": "stdout",
     "output_type": "stream",
     "text": [
      "dict_items([('John', 85), ('Emily', 92), ('Anna', 78), ('Mike', 89)])\n"
     ]
    }
   ],
   "source": [
    "print(scores.items())"
   ]
  },
  {
   "cell_type": "code",
   "execution_count": 7,
   "metadata": {},
   "outputs": [
    {
     "name": "stdout",
     "output_type": "stream",
     "text": [
      "0\n",
      "1\n",
      "2\n",
      "3\n",
      "4\n",
      "0\n",
      "1\n",
      "2\n",
      "3\n",
      "4\n",
      "6\n",
      "7\n",
      "8\n",
      "9\n"
     ]
    }
   ],
   "source": [
    "# break, continue\n",
    "\n",
    "# 여기에 코드를 작성하세요\n",
    "for i in range(10):\n",
    "    if i == 5:\n",
    "        break\n",
    "    print(i)\n",
    "\n",
    "# 여기에 코드를 작성하세요\n",
    "for i in range(10):\n",
    "    if i == 5:\n",
    "        continue\n",
    "    print(i)"
   ]
  },
  {
   "cell_type": "code",
   "execution_count": null,
   "metadata": {},
   "outputs": [],
   "source": []
  },
  {
   "cell_type": "code",
   "execution_count": null,
   "metadata": {},
   "outputs": [],
   "source": []
  },
  {
   "cell_type": "code",
   "execution_count": null,
   "metadata": {},
   "outputs": [],
   "source": []
  },
  {
   "cell_type": "code",
   "execution_count": null,
   "metadata": {},
   "outputs": [],
   "source": []
  },
  {
   "cell_type": "code",
   "execution_count": null,
   "metadata": {},
   "outputs": [],
   "source": []
  },
  {
   "cell_type": "code",
   "execution_count": 2,
   "metadata": {},
   "outputs": [],
   "source": [
    "# f-string"
   ]
  },
  {
   "cell_type": "code",
   "execution_count": null,
   "metadata": {},
   "outputs": [],
   "source": []
  }
 ],
 "metadata": {
  "kernelspec": {
   "display_name": "base",
   "language": "python",
   "name": "python3"
  },
  "language_info": {
   "codemirror_mode": {
    "name": "ipython",
    "version": 3
   },
   "file_extension": ".py",
   "mimetype": "text/x-python",
   "name": "python",
   "nbconvert_exporter": "python",
   "pygments_lexer": "ipython3",
   "version": "3.12.7"
  }
 },
 "nbformat": 4,
 "nbformat_minor": 2
}
